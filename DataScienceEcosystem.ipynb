{
 "cells": [
  {
   "cell_type": "markdown",
   "id": "60229e8b-276f-41e2-bb21-2221ff1d6433",
   "metadata": {},
   "source": [
    "# Data Science Tools and Ecosystem"
   ]
  },
  {
   "cell_type": "markdown",
   "id": "004e05f1-3f9a-4d50-9ef3-686939eea2b1",
   "metadata": {},
   "source": [
    "In this notebook, Data Science Tools and Ecosystem are summarized."
   ]
  },
  {
   "cell_type": "markdown",
   "id": "28687c25-33f1-4a5a-a9ab-3d6ffe5403d4",
   "metadata": {},
   "source": [
    "Some of the popular languages that Data Scientists use are:\n",
    "1. Python\n",
    "2. R\n",
    "3. SQL"
   ]
  },
  {
   "cell_type": "markdown",
   "id": "56cb0bc9-4775-4a76-a625-5de42a54f4cc",
   "metadata": {},
   "source": [
    "Some of the commonly used libraries used by Data Scientists inlude:\n",
    "- SciKitLearn\n",
    "- NumPy\n",
    "- Matplotlib"
   ]
  },
  {
   "cell_type": "markdown",
   "id": "e0c13591-f209-427a-8fed-18f5cbfbb4d4",
   "metadata": {},
   "source": [
    "| Data Science Tools |\n",
    "|--------------------|\n",
    "| RStudio            |\n",
    "| Apache Spark       |\n",
    "| Jupyter Notebook   |\n"
   ]
  },
  {
   "cell_type": "markdown",
   "id": "fb471a48-525c-4d8e-9ce3-0c327c3847ef",
   "metadata": {},
   "source": [
    "### Below are a few examples of evaluating arithmetic expressions in python. "
   ]
  },
  {
   "cell_type": "code",
   "execution_count": 1,
   "id": "bbea11b0-a88b-4104-b70f-a47ad49d4189",
   "metadata": {},
   "outputs": [
    {
     "data": {
      "text/plain": [
       "17"
      ]
     },
     "execution_count": 1,
     "metadata": {},
     "output_type": "execute_result"
    }
   ],
   "source": [
    "(3*4)+5 #This is a simple arithmetic expression to multiply then add integers. "
   ]
  },
  {
   "cell_type": "code",
   "execution_count": 3,
   "id": "845df5eb-6581-4a00-8ac5-7ebfdfc04136",
   "metadata": {},
   "outputs": [
    {
     "data": {
      "text/plain": [
       "3.3333333333333335"
      ]
     },
     "execution_count": 3,
     "metadata": {},
     "output_type": "execute_result"
    }
   ],
   "source": [
    "(200/60) #This will convert 200 minutes to hours by dividing by 60."
   ]
  },
  {
   "cell_type": "markdown",
   "id": "003fb680-b716-4835-9292-06c3f98311d4",
   "metadata": {},
   "source": [
    "**Objectives**\n",
    "\n",
    "- List Popular languages for Data Science\n",
    "- List Data Science Tools\n",
    "- Some popular languages in Data Sciences\n",
    "\n"
   ]
  },
  {
   "cell_type": "markdown",
   "id": "512d3a4f-fb80-4dc1-8009-181f7d7f2ac9",
   "metadata": {},
   "source": [
    "## Author\n",
    "Norberto E. Sepúlveda Serrano"
   ]
  },
  {
   "cell_type": "code",
   "execution_count": null,
   "id": "f34951f2-cf17-4775-81eb-54d9136dd965",
   "metadata": {},
   "outputs": [],
   "source": []
  }
 ],
 "metadata": {
  "kernelspec": {
   "display_name": "Python 3 (ipykernel)",
   "language": "python",
   "name": "python3"
  },
  "language_info": {
   "codemirror_mode": {
    "name": "ipython",
    "version": 3
   },
   "file_extension": ".py",
   "mimetype": "text/x-python",
   "name": "python",
   "nbconvert_exporter": "python",
   "pygments_lexer": "ipython3",
   "version": "3.12.4"
  }
 },
 "nbformat": 4,
 "nbformat_minor": 5
}
